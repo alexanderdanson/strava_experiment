{
 "cells": [
  {
   "cell_type": "code",
   "execution_count": 30,
   "metadata": {},
   "outputs": [],
   "source": [
    "from itertools import groupby\n",
    "from operator import itemgetter\n",
    "\n",
    "import csv\n",
    "import matplotlib.pyplot as plt\n",
    "import numpy as np\n",
    "\n",
    "plt.style.use(\"dark_background\")\n",
    "\n",
    "input_file = \"activities.csv\"\n",
    "\n",
    "with open(input_file, \"r\", encoding=\"utf8\") as activity_data:\n",
    "    activities = list(csv.reader(activity_data))\n",
    "    \n",
    "activities = np.array(activities)\n",
    "activities = np.delete(activities, 0, axis=0)"
   ]
  },
  {
   "cell_type": "code",
   "execution_count": 31,
   "metadata": {},
   "outputs": [
    {
     "name": "stdout",
     "output_type": "stream",
     "text": [
      "2095.64\n",
      "687.63\n",
      "1716.8200000000002\n"
     ]
    },
    {
     "data": {
      "image/png": "[encoded data removed]",
      "text/plain": [
       "<Figure size 432x288 with 1 Axes>"
      ]
     },
     "metadata": {},
     "output_type": "display_data"
    }
   ],
   "source": [
    "# create arrays per activity\n",
    "runs = []\n",
    "skiing = []\n",
    "cycling = []\n",
    "\n",
    "for activity in activities: \n",
    "    if activity[3] == \"Run\":\n",
    "        runs.append(activity)\n",
    "    elif activity[3] == \"Nordic Ski\":\n",
    "        skiing.append(activity)\n",
    "    elif activity[3] == \"Ride\":\n",
    "        cycling.append(activity)\n",
    "        \n",
    "\n",
    "# get total running distance        \n",
    "runs = np.array(runs)\n",
    "run_distances = runs[:, 6].astype(np.float)\n",
    "total_running_distance = np.sum(run_distances)\n",
    "print(total_running_distance)\n",
    "\n",
    "# get total skiing distance        \n",
    "skiing = np.array(skiing)\n",
    "ski_distances = skiing[:, 6].astype(np.float)\n",
    "total_skiing_distance = np.sum(ski_distances)\n",
    "print(total_skiing_distance)\n",
    "\n",
    "# get total cycling distance        \n",
    "cycling = np.array(cycling)\n",
    "cycling_distances = cycling[:, 6].astype(np.float)\n",
    "total_cycling_distance = np.sum(cycling_distances)\n",
    "print(total_cycling_distance)\n",
    "\n",
    "plt.bar((\"Running\", \"Cross-Country Skiing\", \"Cycling\"), (total_running_distance, total_skiing_distance, total_cycling_distance), width=0.8)\n",
    "plt.title(\"All-time Distances\")\n",
    "plt.xlabel(\"Sport\")\n",
    "plt.ylabel(\"Distance (km)\")\n",
    "plt.show()"
   ]
  },
  {
   "cell_type": "code",
   "execution_count": 1,
   "metadata": {},
   "outputs": [],
   "source": [
    "# for activity_type, group in groupby(activities, lambda i: i[0]):\n",
    "    # categorized_activities = list(group)\n",
    "    # activity_durations = [float(activity[1]) for activity in categorized_activities]\n",
    "    # activity_distances = [float(activity[2]) for activity in categorized_activities]\n",
    "    # plt.scatter(activity_durations, activity_distances, s=10, label = activity_type)\n",
    "\n",
    "# plt.xlabel(\"Activity Duration\", fontsize=10)\n",
    "# plt.ylabel(\"Activity Distance\", fontsize=10)\n",
    "# plt.show()  "
   ]
  }
 ],
 "metadata": {
  "kernelspec": {
   "display_name": "Python 3",
   "language": "python",
   "name": "python3"
  },
  "language_info": {
   "codemirror_mode": {
    "name": "ipython",
    "version": 3
   },
   "file_extension": ".py",
   "mimetype": "text/x-python",
   "name": "python",
   "nbconvert_exporter": "python",
   "pygments_lexer": "ipython3",
   "version": "3.7.3"
  }
 },
 "nbformat": 4,
 "nbformat_minor": 2
}
