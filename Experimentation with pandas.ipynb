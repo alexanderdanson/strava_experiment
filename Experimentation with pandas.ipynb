{
 "cells": [
  {
   "cell_type": "code",
   "execution_count": 50,
   "metadata": {},
   "outputs": [
    {
     "data": {
      "text/plain": [
       "'activities.csv'"
      ]
     },
     "execution_count": 50,
     "metadata": {},
     "output_type": "execute_result"
    }
   ],
   "source": [
    "import os\n",
    "import pandas as pd\n",
    "import matplotlib.pyplot as plt\n",
    "\n",
    "activities_file_name = os.path.join(\"activities.csv\")\n",
    "activities_file_name"
   ]
  },
  {
   "cell_type": "code",
   "execution_count": 62,
   "metadata": {},
   "outputs": [
    {
     "data": {
      "text/html": [
       "<div>\n",
       "<style scoped>\n",
       "    .dataframe tbody tr th:only-of-type {\n",
       "        vertical-align: middle;\n",
       "    }\n",
       "\n",
       "    .dataframe tbody tr th {\n",
       "        vertical-align: top;\n",
       "    }\n",
       "\n",
       "    .dataframe thead th {\n",
       "        text-align: right;\n",
       "    }\n",
       "</style>\n",
       "<table border=\"1\" class=\"dataframe\">\n",
       "  <thead>\n",
       "    <tr style=\"text-align: right;\">\n",
       "      <th></th>\n",
       "      <th>Elapsed Time</th>\n",
       "      <th>Distance</th>\n",
       "      <th>Relative Effort</th>\n",
       "      <th>Activity Gear</th>\n",
       "    </tr>\n",
       "    <tr>\n",
       "      <th>activity_type</th>\n",
       "      <th></th>\n",
       "      <th></th>\n",
       "      <th></th>\n",
       "      <th></th>\n",
       "    </tr>\n",
       "  </thead>\n",
       "  <tbody>\n",
       "    <tr>\n",
       "      <th>Nordic Ski</th>\n",
       "      <td>250885</td>\n",
       "      <td>687.63</td>\n",
       "      <td>1440.0</td>\n",
       "      <td>0.0</td>\n",
       "    </tr>\n",
       "    <tr>\n",
       "      <th>Ride</th>\n",
       "      <td>339708</td>\n",
       "      <td>1716.82</td>\n",
       "      <td>6406.0</td>\n",
       "      <td>0.0</td>\n",
       "    </tr>\n",
       "    <tr>\n",
       "      <th>Rock Climbing</th>\n",
       "      <td>19800</td>\n",
       "      <td>0.00</td>\n",
       "      <td>0.0</td>\n",
       "      <td>0.0</td>\n",
       "    </tr>\n",
       "    <tr>\n",
       "      <th>Roller Ski</th>\n",
       "      <td>71213</td>\n",
       "      <td>228.38</td>\n",
       "      <td>252.0</td>\n",
       "      <td>0.0</td>\n",
       "    </tr>\n",
       "    <tr>\n",
       "      <th>Run</th>\n",
       "      <td>687429</td>\n",
       "      <td>2095.64</td>\n",
       "      <td>17587.0</td>\n",
       "      <td>0.0</td>\n",
       "    </tr>\n",
       "    <tr>\n",
       "      <th>Swim</th>\n",
       "      <td>16611</td>\n",
       "      <td>0.00</td>\n",
       "      <td>26.0</td>\n",
       "      <td>0.0</td>\n",
       "    </tr>\n",
       "    <tr>\n",
       "      <th>Weight Training</th>\n",
       "      <td>6420</td>\n",
       "      <td>0.00</td>\n",
       "      <td>0.0</td>\n",
       "      <td>0.0</td>\n",
       "    </tr>\n",
       "    <tr>\n",
       "      <th>Workout</th>\n",
       "      <td>54191</td>\n",
       "      <td>35.60</td>\n",
       "      <td>141.0</td>\n",
       "      <td>0.0</td>\n",
       "    </tr>\n",
       "  </tbody>\n",
       "</table>\n",
       "</div>"
      ],
      "text/plain": [
       "                 Elapsed Time  Distance  Relative Effort  Activity Gear\n",
       "activity_type                                                          \n",
       "Nordic Ski             250885    687.63           1440.0            0.0\n",
       "Ride                   339708   1716.82           6406.0            0.0\n",
       "Rock Climbing           19800      0.00              0.0            0.0\n",
       "Roller Ski              71213    228.38            252.0            0.0\n",
       "Run                    687429   2095.64          17587.0            0.0\n",
       "Swim                    16611      0.00             26.0            0.0\n",
       "Weight Training          6420      0.00              0.0            0.0\n",
       "Workout                 54191     35.60            141.0            0.0"
      ]
     },
     "execution_count": 62,
     "metadata": {},
     "output_type": "execute_result"
    }
   ],
   "source": [
    "activities = pd.read_csv(activities_file_name, index_col=0)\n",
    "activities.rename(columns={'Activity Type': 'activity_type'}, inplace=True)\n",
    "activities[\"Distance\"] = pd.to_numeric(activities[\"Distance\"], errors=\"coerce\")\n",
    "grouped_activities = activities.groupby(\"activity_type\")\n",
    "totals = grouped_activities.sum()\n",
    "totals"
   ]
  }
 ],
 "metadata": {
  "kernelspec": {
   "display_name": "Python 3",
   "language": "python",
   "name": "python3"
  },
  "language_info": {
   "codemirror_mode": {
    "name": "ipython",
    "version": 3
   },
   "file_extension": ".py",
   "mimetype": "text/x-python",
   "name": "python",
   "nbconvert_exporter": "python",
   "pygments_lexer": "ipython3",
   "version": "3.7.3"
  }
 },
 "nbformat": 4,
 "nbformat_minor": 2
}
